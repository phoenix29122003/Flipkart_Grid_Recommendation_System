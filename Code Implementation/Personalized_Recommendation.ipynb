{
  "nbformat": 4,
  "nbformat_minor": 0,
  "metadata": {
    "colab": {
      "provenance": [],
      "toc_visible": true
    },
    "kernelspec": {
      "name": "python3",
      "display_name": "Python 3"
    },
    "language_info": {
      "name": "python"
    }
  },
  "cells": [
    {
      "cell_type": "markdown",
      "source": [
        "Importing important Libraries."
      ],
      "metadata": {
        "id": "_sH_Mhr_quD8"
      }
    },
    {
      "cell_type": "code",
      "source": [
        "import numpy as np\n",
        "import pandas as pd\n",
        "import matplotlib.pyplot as plt\n",
        "plt.style.use(\"ggplot\")\n",
        "import sklearn\n",
        "from sklearn.decomposition import TruncatedSVD"
      ],
      "metadata": {
        "id": "IG2KzPgiqw8O"
      },
      "execution_count": 1,
      "outputs": []
    },
    {
      "cell_type": "code",
      "source": [
        "from sklearn.feature_extraction.text import TfidfVectorizer, CountVectorizer\n",
        "from sklearn.neighbors import NearestNeighbors\n",
        "from sklearn.cluster import KMeans\n",
        "from sklearn.metrics import adjusted_rand_score"
      ],
      "metadata": {
        "id": "TuysLpxOqzXo"
      },
      "execution_count": 2,
      "outputs": []
    },
    {
      "cell_type": "markdown",
      "source": [
        "I have first uploaded the Item_description dataset on my Gdrive and then monted on the notebook."
      ],
      "metadata": {
        "id": "RWInyOlBrexJ"
      }
    },
    {
      "cell_type": "code",
      "source": [
        "from google.colab import drive\n",
        "drive.mount(\"/content/gdrive\")"
      ],
      "metadata": {
        "colab": {
          "base_uri": "https://localhost:8080/"
        },
        "id": "3ANVEEcXq46S",
        "outputId": "79c3cf15-7caf-4663-8f52-e77c5ee0384d"
      },
      "execution_count": 3,
      "outputs": [
        {
          "output_type": "stream",
          "name": "stdout",
          "text": [
            "Mounted at /content/gdrive\n"
          ]
        }
      ]
    },
    {
      "cell_type": "markdown",
      "source": [
        "Reading the dataset as item_description for description ."
      ],
      "metadata": {
        "id": "TUK_rziZsJJG"
      }
    },
    {
      "cell_type": "code",
      "source": [
        "item_description=pd.read_csv('/content/gdrive/MyDrive/description.csv')"
      ],
      "metadata": {
        "id": "0RG9_jBlri0u"
      },
      "execution_count": 4,
      "outputs": []
    },
    {
      "cell_type": "markdown",
      "source": [
        "Printing dimension of our dataset."
      ],
      "metadata": {
        "id": "2Liks67brmHe"
      }
    },
    {
      "cell_type": "code",
      "source": [
        "item_description.shape"
      ],
      "metadata": {
        "colab": {
          "base_uri": "https://localhost:8080/"
        },
        "id": "-2-plCvurxn5",
        "outputId": "d6ce95af-a858-4575-bd24-b6d86a4f6f4a"
      },
      "execution_count": 5,
      "outputs": [
        {
          "output_type": "execute_result",
          "data": {
            "text/plain": [
              "(124428, 2)"
            ]
          },
          "metadata": {},
          "execution_count": 5
        }
      ]
    },
    {
      "cell_type": "markdown",
      "source": [
        "Checking for missing values and eliminating them.\n",
        "\n",
        "This dataset has two fields- product_uid and product_description"
      ],
      "metadata": {
        "id": "0Dp9zHmQsbam"
      }
    },
    {
      "cell_type": "code",
      "source": [
        "item_description = item_description.dropna()\n",
        "item_description.shape\n",
        "item_description.head()"
      ],
      "metadata": {
        "colab": {
          "base_uri": "https://localhost:8080/",
          "height": 206
        },
        "id": "MXjitzqcsSjg",
        "outputId": "86a99bcc-9cf0-4fec-f58d-520ae3ab8cc3"
      },
      "execution_count": 7,
      "outputs": [
        {
          "output_type": "execute_result",
          "data": {
            "text/plain": [
              "   product_uid                                product_description\n",
              "0       100001  Not only do angles make joints stronger, they ...\n",
              "1       100002  BEHR Premium Textured DECKOVER is an innovativ...\n",
              "2       100003  Classic architecture meets contemporary design...\n",
              "3       100004  The Grape Solar 265-Watt Polycrystalline PV So...\n",
              "4       100005  Update your bathroom with the Delta Vero Singl..."
            ],
            "text/html": [
              "\n",
              "  <div id=\"df-fe5d02bd-bb73-4b83-927c-cbeeb14a90c9\" class=\"colab-df-container\">\n",
              "    <div>\n",
              "<style scoped>\n",
              "    .dataframe tbody tr th:only-of-type {\n",
              "        vertical-align: middle;\n",
              "    }\n",
              "\n",
              "    .dataframe tbody tr th {\n",
              "        vertical-align: top;\n",
              "    }\n",
              "\n",
              "    .dataframe thead th {\n",
              "        text-align: right;\n",
              "    }\n",
              "</style>\n",
              "<table border=\"1\" class=\"dataframe\">\n",
              "  <thead>\n",
              "    <tr style=\"text-align: right;\">\n",
              "      <th></th>\n",
              "      <th>product_uid</th>\n",
              "      <th>product_description</th>\n",
              "    </tr>\n",
              "  </thead>\n",
              "  <tbody>\n",
              "    <tr>\n",
              "      <th>0</th>\n",
              "      <td>100001</td>\n",
              "      <td>Not only do angles make joints stronger, they ...</td>\n",
              "    </tr>\n",
              "    <tr>\n",
              "      <th>1</th>\n",
              "      <td>100002</td>\n",
              "      <td>BEHR Premium Textured DECKOVER is an innovativ...</td>\n",
              "    </tr>\n",
              "    <tr>\n",
              "      <th>2</th>\n",
              "      <td>100003</td>\n",
              "      <td>Classic architecture meets contemporary design...</td>\n",
              "    </tr>\n",
              "    <tr>\n",
              "      <th>3</th>\n",
              "      <td>100004</td>\n",
              "      <td>The Grape Solar 265-Watt Polycrystalline PV So...</td>\n",
              "    </tr>\n",
              "    <tr>\n",
              "      <th>4</th>\n",
              "      <td>100005</td>\n",
              "      <td>Update your bathroom with the Delta Vero Singl...</td>\n",
              "    </tr>\n",
              "  </tbody>\n",
              "</table>\n",
              "</div>\n",
              "    <div class=\"colab-df-buttons\">\n",
              "\n",
              "  <div class=\"colab-df-container\">\n",
              "    <button class=\"colab-df-convert\" onclick=\"convertToInteractive('df-fe5d02bd-bb73-4b83-927c-cbeeb14a90c9')\"\n",
              "            title=\"Convert this dataframe to an interactive table.\"\n",
              "            style=\"display:none;\">\n",
              "\n",
              "  <svg xmlns=\"http://www.w3.org/2000/svg\" height=\"24px\" viewBox=\"0 -960 960 960\">\n",
              "    <path d=\"M120-120v-720h720v720H120Zm60-500h600v-160H180v160Zm220 220h160v-160H400v160Zm0 220h160v-160H400v160ZM180-400h160v-160H180v160Zm440 0h160v-160H620v160ZM180-180h160v-160H180v160Zm440 0h160v-160H620v160Z\"/>\n",
              "  </svg>\n",
              "    </button>\n",
              "\n",
              "  <style>\n",
              "    .colab-df-container {\n",
              "      display:flex;\n",
              "      gap: 12px;\n",
              "    }\n",
              "\n",
              "    .colab-df-convert {\n",
              "      background-color: #E8F0FE;\n",
              "      border: none;\n",
              "      border-radius: 50%;\n",
              "      cursor: pointer;\n",
              "      display: none;\n",
              "      fill: #1967D2;\n",
              "      height: 32px;\n",
              "      padding: 0 0 0 0;\n",
              "      width: 32px;\n",
              "    }\n",
              "\n",
              "    .colab-df-convert:hover {\n",
              "      background-color: #E2EBFA;\n",
              "      box-shadow: 0px 1px 2px rgba(60, 64, 67, 0.3), 0px 1px 3px 1px rgba(60, 64, 67, 0.15);\n",
              "      fill: #174EA6;\n",
              "    }\n",
              "\n",
              "    .colab-df-buttons div {\n",
              "      margin-bottom: 4px;\n",
              "    }\n",
              "\n",
              "    [theme=dark] .colab-df-convert {\n",
              "      background-color: #3B4455;\n",
              "      fill: #D2E3FC;\n",
              "    }\n",
              "\n",
              "    [theme=dark] .colab-df-convert:hover {\n",
              "      background-color: #434B5C;\n",
              "      box-shadow: 0px 1px 3px 1px rgba(0, 0, 0, 0.15);\n",
              "      filter: drop-shadow(0px 1px 2px rgba(0, 0, 0, 0.3));\n",
              "      fill: #FFFFFF;\n",
              "    }\n",
              "  </style>\n",
              "\n",
              "    <script>\n",
              "      const buttonEl =\n",
              "        document.querySelector('#df-fe5d02bd-bb73-4b83-927c-cbeeb14a90c9 button.colab-df-convert');\n",
              "      buttonEl.style.display =\n",
              "        google.colab.kernel.accessAllowed ? 'block' : 'none';\n",
              "\n",
              "      async function convertToInteractive(key) {\n",
              "        const element = document.querySelector('#df-fe5d02bd-bb73-4b83-927c-cbeeb14a90c9');\n",
              "        const dataTable =\n",
              "          await google.colab.kernel.invokeFunction('convertToInteractive',\n",
              "                                                    [key], {});\n",
              "        if (!dataTable) return;\n",
              "\n",
              "        const docLinkHtml = 'Like what you see? Visit the ' +\n",
              "          '<a target=\"_blank\" href=https://colab.research.google.com/notebooks/data_table.ipynb>data table notebook</a>'\n",
              "          + ' to learn more about interactive tables.';\n",
              "        element.innerHTML = '';\n",
              "        dataTable['output_type'] = 'display_data';\n",
              "        await google.colab.output.renderOutput(dataTable, element);\n",
              "        const docLink = document.createElement('div');\n",
              "        docLink.innerHTML = docLinkHtml;\n",
              "        element.appendChild(docLink);\n",
              "      }\n",
              "    </script>\n",
              "  </div>\n",
              "\n",
              "\n",
              "<div id=\"df-b59dd6f9-7542-4a0c-a00e-cdb758311ea1\">\n",
              "  <button class=\"colab-df-quickchart\" onclick=\"quickchart('df-b59dd6f9-7542-4a0c-a00e-cdb758311ea1')\"\n",
              "            title=\"Suggest charts.\"\n",
              "            style=\"display:none;\">\n",
              "\n",
              "<svg xmlns=\"http://www.w3.org/2000/svg\" height=\"24px\"viewBox=\"0 0 24 24\"\n",
              "     width=\"24px\">\n",
              "    <g>\n",
              "        <path d=\"M19 3H5c-1.1 0-2 .9-2 2v14c0 1.1.9 2 2 2h14c1.1 0 2-.9 2-2V5c0-1.1-.9-2-2-2zM9 17H7v-7h2v7zm4 0h-2V7h2v10zm4 0h-2v-4h2v4z\"/>\n",
              "    </g>\n",
              "</svg>\n",
              "  </button>\n",
              "\n",
              "<style>\n",
              "  .colab-df-quickchart {\n",
              "    background-color: #E8F0FE;\n",
              "    border: none;\n",
              "    border-radius: 50%;\n",
              "    cursor: pointer;\n",
              "    display: none;\n",
              "    fill: #1967D2;\n",
              "    height: 32px;\n",
              "    padding: 0 0 0 0;\n",
              "    width: 32px;\n",
              "  }\n",
              "\n",
              "  .colab-df-quickchart:hover {\n",
              "    background-color: #E2EBFA;\n",
              "    box-shadow: 0px 1px 2px rgba(60, 64, 67, 0.3), 0px 1px 3px 1px rgba(60, 64, 67, 0.15);\n",
              "    fill: #174EA6;\n",
              "  }\n",
              "\n",
              "  [theme=dark] .colab-df-quickchart {\n",
              "    background-color: #3B4455;\n",
              "    fill: #D2E3FC;\n",
              "  }\n",
              "\n",
              "  [theme=dark] .colab-df-quickchart:hover {\n",
              "    background-color: #434B5C;\n",
              "    box-shadow: 0px 1px 3px 1px rgba(0, 0, 0, 0.15);\n",
              "    filter: drop-shadow(0px 1px 2px rgba(0, 0, 0, 0.3));\n",
              "    fill: #FFFFFF;\n",
              "  }\n",
              "</style>\n",
              "\n",
              "  <script>\n",
              "    async function quickchart(key) {\n",
              "      const charts = await google.colab.kernel.invokeFunction(\n",
              "          'suggestCharts', [key], {});\n",
              "    }\n",
              "    (() => {\n",
              "      let quickchartButtonEl =\n",
              "        document.querySelector('#df-b59dd6f9-7542-4a0c-a00e-cdb758311ea1 button');\n",
              "      quickchartButtonEl.style.display =\n",
              "        google.colab.kernel.accessAllowed ? 'block' : 'none';\n",
              "    })();\n",
              "  </script>\n",
              "</div>\n",
              "    </div>\n",
              "  </div>\n"
            ]
          },
          "metadata": {},
          "execution_count": 7
        }
      ]
    },
    {
      "cell_type": "markdown",
      "source": [
        "Printing ItemIDs with their respective Descriptions"
      ],
      "metadata": {
        "id": "BFLtsnJGsp1E"
      }
    },
    {
      "cell_type": "code",
      "source": [
        "item_description = item_description.head(500)\n",
        "item_description[\"product_description\"].head(10)\n"
      ],
      "metadata": {
        "colab": {
          "base_uri": "https://localhost:8080/"
        },
        "id": "SUxwHtjsselW",
        "outputId": "b13ed98c-9eed-412a-e316-497327166cfd"
      },
      "execution_count": 8,
      "outputs": [
        {
          "output_type": "execute_result",
          "data": {
            "text/plain": [
              "0    Not only do angles make joints stronger, they ...\n",
              "1    BEHR Premium Textured DECKOVER is an innovativ...\n",
              "2    Classic architecture meets contemporary design...\n",
              "3    The Grape Solar 265-Watt Polycrystalline PV So...\n",
              "4    Update your bathroom with the Delta Vero Singl...\n",
              "5    Achieving delicious results is almost effortle...\n",
              "6    The Quantum Adjustable 2-Light LED Black Emerg...\n",
              "7    The Teks #10 x 1-1/2 in. Zinc-Plated Steel Was...\n",
              "8    Get the House of Fara 3/4 in. x 3 in. x 8 ft. ...\n",
              "9    Valley View Industries Metal Stakes (4-Pack) a...\n",
              "Name: product_description, dtype: object"
            ]
          },
          "metadata": {},
          "execution_count": 8
        }
      ]
    },
    {
      "cell_type": "markdown",
      "source": [
        "Featurization of items- There can be various features of a unique item. For ex- its name, description, category, brand and cost. Among them category have the highest weightage. But due to lack of data we are making clusters on the basis of description, as this is also key feature for any item.\n",
        "\n",
        "\n",
        "Converting the text in item_description into numerical data for analysis and vectorizing it using TfidVectorizer."
      ],
      "metadata": {
        "id": "ptndWmTYsziD"
      }
    },
    {
      "cell_type": "code",
      "source": [
        "vectorizer = TfidfVectorizer(stop_words='english')\n",
        "X1 = vectorizer.fit_transform(item_description[\"product_description\"])\n",
        "X1"
      ],
      "metadata": {
        "colab": {
          "base_uri": "https://localhost:8080/"
        },
        "id": "m80z46OBswE-",
        "outputId": "d736e880-4025-4f17-b3b0-e034ab9056a2"
      },
      "execution_count": 10,
      "outputs": [
        {
          "output_type": "execute_result",
          "data": {
            "text/plain": [
              "<500x8932 sparse matrix of type '<class 'numpy.float64'>'\n",
              "\twith 34817 stored elements in Compressed Sparse Row format>"
            ]
          },
          "metadata": {},
          "execution_count": 10
        }
      ]
    },
    {
      "cell_type": "markdown",
      "source": [
        "We have made 10 clusters within item dataset on the basis of description."
      ],
      "metadata": {
        "id": "Ov8tOYTvtCXh"
      }
    },
    {
      "cell_type": "code",
      "source": [
        "X=X1\n",
        "\n",
        "kmeans = KMeans(n_clusters = 10, init = 'k-means++')\n",
        "y_kmeans = kmeans.fit_predict(X)\n",
        "plt.plot(y_kmeans, \".\")\n",
        "plt.show()"
      ],
      "metadata": {
        "colab": {
          "base_uri": "https://localhost:8080/",
          "height": 485
        },
        "id": "gu6eBk-3tBzU",
        "outputId": "d58c1641-1687-4e85-ecd7-8ed27ede7033"
      },
      "execution_count": 11,
      "outputs": [
        {
          "output_type": "stream",
          "name": "stderr",
          "text": [
            "/usr/local/lib/python3.10/dist-packages/sklearn/cluster/_kmeans.py:870: FutureWarning: The default value of `n_init` will change from 10 to 'auto' in 1.4. Set the value of `n_init` explicitly to suppress the warning\n",
            "  warnings.warn(\n"
          ]
        },
        {
          "output_type": "display_data",
          "data": {
            "text/plain": [
              "<Figure size 640x480 with 1 Axes>"
            ],
            "image/png": "[encoded data removed]"
          },
          "metadata": {}
        }
      ]
    },
    {
      "cell_type": "markdown",
      "source": [
        "Printing Top Related Products for each cluster. These products are the centroids of any cluster."
      ],
      "metadata": {
        "id": "DGxMlU5Ctfdu"
      }
    },
    {
      "cell_type": "code",
      "source": [
        "def print_cluster(i):\n",
        "    print(\"Cluster %d:\" % i),\n",
        "    for ind in order_centroids[i, :10]:\n",
        "        print(' %s' % terms[ind]),\n",
        "    print"
      ],
      "metadata": {
        "id": "K819npBKtYxQ"
      },
      "execution_count": 14,
      "outputs": []
    },
    {
      "cell_type": "code",
      "source": [
        "true_k = 10\n",
        "\n",
        "model = KMeans(n_clusters=true_k, init='k-means++', max_iter=100, n_init=1)\n",
        "model.fit(X1)\n",
        "\n",
        "print(\"Top terms per cluster:\")\n",
        "order_centroids = model.cluster_centers_.argsort()[:, ::-1]\n",
        "terms = vectorizer.get_feature_names_out()\n",
        "for i in range(true_k):\n",
        "    print_cluster(i)"
      ],
      "metadata": {
        "colab": {
          "base_uri": "https://localhost:8080/"
        },
        "id": "VTkVPeYStx8B",
        "outputId": "d63d2d50-1e35-4c9f-eef2-2e0ed5615ed9"
      },
      "execution_count": 15,
      "outputs": [
        {
          "output_type": "stream",
          "name": "stdout",
          "text": [
            "Top terms per cluster:\n",
            "Cluster 0:\n",
            " fence\n",
            " post\n",
            " vinyl\n",
            " ft\n",
            " gate\n",
            " kit\n",
            " easy\n",
            " rail\n",
            " installation\n",
            " use\n",
            "Cluster 1:\n",
            " air\n",
            " light\n",
            " power\n",
            " cooling\n",
            " unit\n",
            " window\n",
            " watt\n",
            " fan\n",
            " ft\n",
            " led\n",
            "Cluster 2:\n",
            " water\n",
            " toilet\n",
            " flush\n",
            " bowl\n",
            " design\n",
            " tank\n",
            " helps\n",
            " 20\n",
            " m12\n",
            " wax\n",
            "Cluster 3:\n",
            " deck\n",
            " center\n",
            " roof\n",
            " plate\n",
            " pull\n",
            " posts\n",
            " cabinet\n",
            " post\n",
            " speaker\n",
            " wall\n",
            "Cluster 4:\n",
            " metal\n",
            " drill\n",
            " use\n",
            " hole\n",
            " screw\n",
            " screws\n",
            " cutting\n",
            " gauge\n",
            " steel\n",
            " light\n",
            "Cluster 5:\n",
            " frame\n",
            " patio\n",
            " outdoor\n",
            " piece\n",
            " aluminum\n",
            " finish\n",
            " easy\n",
            " dining\n",
            " resistant\n",
            " fabric\n",
            "Cluster 6:\n",
            " wood\n",
            " bamboo\n",
            " brush\n",
            " panels\n",
            " ft\n",
            " natural\n",
            " easy\n",
            " garage\n",
            " fencing\n",
            " door\n",
            "Cluster 7:\n",
            " cooking\n",
            " oven\n",
            " cycle\n",
            " water\n",
            " cu\n",
            " wash\n",
            " gas\n",
            " ft\n",
            " easy\n",
            " control\n",
            "Cluster 8:\n",
            " brass\n",
            " kitchen\n",
            " water\n",
            " solid\n",
            " stainless\n",
            " sink\n",
            " steel\n",
            " design\n",
            " soap\n",
            " features\n",
            "Cluster 9:\n",
            " wall\n",
            " vary\n",
            " concrete\n",
            " ft\n",
            " product\n",
            " landscape\n",
            " easy\n",
            " walls\n",
            " tile\n",
            " home\n"
          ]
        }
      ]
    },
    {
      "cell_type": "markdown",
      "source": [
        "A show_recommendation function is written which will give top related items related to input. The internal functioning of this function is that- it first finds out from which cluster the current input item belongs to and then show top related items to it."
      ],
      "metadata": {
        "id": "4G6qCXI9ubyL"
      }
    },
    {
      "cell_type": "code",
      "source": [
        "def show_recommendations(product):\n",
        "    Y = vectorizer.transform([product])\n",
        "    prediction = model.predict(Y)\n",
        "    print_cluster(prediction[0])"
      ],
      "metadata": {
        "id": "U834CdG0ucPx"
      },
      "execution_count": 16,
      "outputs": []
    },
    {
      "cell_type": "markdown",
      "source": [
        "For ex- User buys oven, furniture and battery. They belong to cluster 7, 7 and 5 respectively. Hence user will be recommended a combine catalogue of top related products of the following clusters."
      ],
      "metadata": {
        "id": "NIIYBLktvulH"
      }
    },
    {
      "cell_type": "code",
      "source": [
        "show_recommendations(\"oven\")"
      ],
      "metadata": {
        "colab": {
          "base_uri": "https://localhost:8080/"
        },
        "id": "TcXiGUPivdfR",
        "outputId": "a20c49ef-dff7-4d58-d4b5-737bac39410e"
      },
      "execution_count": 17,
      "outputs": [
        {
          "output_type": "stream",
          "name": "stdout",
          "text": [
            "Cluster 7:\n",
            " cooking\n",
            " oven\n",
            " cycle\n",
            " water\n",
            " cu\n",
            " wash\n",
            " gas\n",
            " ft\n",
            " easy\n",
            " control\n"
          ]
        }
      ]
    },
    {
      "cell_type": "code",
      "source": [
        "show_recommendations(\"furniture\")"
      ],
      "metadata": {
        "colab": {
          "base_uri": "https://localhost:8080/"
        },
        "id": "4CaIO8uLv5qa",
        "outputId": "de66ad3f-dd1c-4e86-91ac-c1cc0f0f7bad"
      },
      "execution_count": 18,
      "outputs": [
        {
          "output_type": "stream",
          "name": "stdout",
          "text": [
            "Cluster 8:\n",
            " brass\n",
            " kitchen\n",
            " water\n",
            " solid\n",
            " stainless\n",
            " sink\n",
            " steel\n",
            " design\n",
            " soap\n",
            " features\n"
          ]
        }
      ]
    },
    {
      "cell_type": "code",
      "source": [
        "show_recommendations(\"battery\")"
      ],
      "metadata": {
        "colab": {
          "base_uri": "https://localhost:8080/"
        },
        "id": "BIKqShbHwBKJ",
        "outputId": "bb8ac873-1647-45bb-99dd-2cec0fff0820"
      },
      "execution_count": 19,
      "outputs": [
        {
          "output_type": "stream",
          "name": "stdout",
          "text": [
            "Cluster 2:\n",
            " water\n",
            " toilet\n",
            " flush\n",
            " bowl\n",
            " design\n",
            " tank\n",
            " helps\n",
            " 20\n",
            " m12\n",
            " wax\n"
          ]
        }
      ]
    }
  ]
}